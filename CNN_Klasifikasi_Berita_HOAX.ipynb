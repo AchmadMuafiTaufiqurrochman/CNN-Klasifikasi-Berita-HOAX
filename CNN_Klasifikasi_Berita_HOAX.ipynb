{
  "nbformat": 4,
  "nbformat_minor": 0,
  "metadata": {
    "colab": {
      "provenance": [],
      "gpuType": "T4",
      "authorship_tag": "ABX9TyO7R19u4AsFxn8FRzPDwZBq",
      "include_colab_link": true
    },
    "kernelspec": {
      "name": "python3",
      "display_name": "Python 3"
    },
    "language_info": {
      "name": "python"
    },
    "accelerator": "GPU"
  },
  "cells": [
    {
      "cell_type": "markdown",
      "metadata": {
        "id": "view-in-github",
        "colab_type": "text"
      },
      "source": [
        "<a href=\"https://colab.research.google.com/github/AchmadMuafiTaufiqurrochman/CNN-Klasifikasi-Berita-HOAX/blob/main/CNN_Klasifikasi_Berita_HOAX.ipynb\" target=\"_parent\"><img src=\"https://colab.research.google.com/assets/colab-badge.svg\" alt=\"Open In Colab\"/></a>"
      ]
    },
    {
      "cell_type": "code",
      "source": [
        "!pip install --upgrade tensorflow"
      ],
      "metadata": {
        "colab": {
          "base_uri": "https://localhost:8080/",
          "height": 1000
        },
        "id": "meoFNguU1T9K",
        "outputId": "bf0914aa-29a6-47d3-f394-17ffecfbfd0e"
      },
      "execution_count": null,
      "outputs": [
        {
          "output_type": "stream",
          "name": "stdout",
          "text": [
            "Requirement already satisfied: tensorflow in /usr/local/lib/python3.11/dist-packages (2.18.0)\n",
            "Collecting tensorflow\n",
            "  Downloading tensorflow-2.19.0-cp311-cp311-manylinux_2_17_x86_64.manylinux2014_x86_64.whl.metadata (4.1 kB)\n",
            "Requirement already satisfied: absl-py>=1.0.0 in /usr/local/lib/python3.11/dist-packages (from tensorflow) (1.4.0)\n",
            "Requirement already satisfied: astunparse>=1.6.0 in /usr/local/lib/python3.11/dist-packages (from tensorflow) (1.6.3)\n",
            "Requirement already satisfied: flatbuffers>=24.3.25 in /usr/local/lib/python3.11/dist-packages (from tensorflow) (25.2.10)\n",
            "Requirement already satisfied: gast!=0.5.0,!=0.5.1,!=0.5.2,>=0.2.1 in /usr/local/lib/python3.11/dist-packages (from tensorflow) (0.6.0)\n",
            "Requirement already satisfied: google-pasta>=0.1.1 in /usr/local/lib/python3.11/dist-packages (from tensorflow) (0.2.0)\n",
            "Requirement already satisfied: libclang>=13.0.0 in /usr/local/lib/python3.11/dist-packages (from tensorflow) (18.1.1)\n",
            "Requirement already satisfied: opt-einsum>=2.3.2 in /usr/local/lib/python3.11/dist-packages (from tensorflow) (3.4.0)\n",
            "Requirement already satisfied: packaging in /usr/local/lib/python3.11/dist-packages (from tensorflow) (24.2)\n",
            "Requirement already satisfied: protobuf!=4.21.0,!=4.21.1,!=4.21.2,!=4.21.3,!=4.21.4,!=4.21.5,<6.0.0dev,>=3.20.3 in /usr/local/lib/python3.11/dist-packages (from tensorflow) (5.29.5)\n",
            "Requirement already satisfied: requests<3,>=2.21.0 in /usr/local/lib/python3.11/dist-packages (from tensorflow) (2.32.3)\n",
            "Requirement already satisfied: setuptools in /usr/local/lib/python3.11/dist-packages (from tensorflow) (75.2.0)\n",
            "Requirement already satisfied: six>=1.12.0 in /usr/local/lib/python3.11/dist-packages (from tensorflow) (1.17.0)\n",
            "Requirement already satisfied: termcolor>=1.1.0 in /usr/local/lib/python3.11/dist-packages (from tensorflow) (3.1.0)\n",
            "Requirement already satisfied: typing-extensions>=3.6.6 in /usr/local/lib/python3.11/dist-packages (from tensorflow) (4.14.0)\n",
            "Requirement already satisfied: wrapt>=1.11.0 in /usr/local/lib/python3.11/dist-packages (from tensorflow) (1.17.2)\n",
            "Requirement already satisfied: grpcio<2.0,>=1.24.3 in /usr/local/lib/python3.11/dist-packages (from tensorflow) (1.73.1)\n",
            "Collecting tensorboard~=2.19.0 (from tensorflow)\n",
            "  Downloading tensorboard-2.19.0-py3-none-any.whl.metadata (1.8 kB)\n",
            "Requirement already satisfied: keras>=3.5.0 in /usr/local/lib/python3.11/dist-packages (from tensorflow) (3.8.0)\n",
            "Requirement already satisfied: numpy<2.2.0,>=1.26.0 in /usr/local/lib/python3.11/dist-packages (from tensorflow) (2.0.2)\n",
            "Requirement already satisfied: h5py>=3.11.0 in /usr/local/lib/python3.11/dist-packages (from tensorflow) (3.14.0)\n",
            "Collecting ml-dtypes<1.0.0,>=0.5.1 (from tensorflow)\n",
            "  Downloading ml_dtypes-0.5.1-cp311-cp311-manylinux_2_17_x86_64.manylinux2014_x86_64.whl.metadata (21 kB)\n",
            "Requirement already satisfied: tensorflow-io-gcs-filesystem>=0.23.1 in /usr/local/lib/python3.11/dist-packages (from tensorflow) (0.37.1)\n",
            "Requirement already satisfied: wheel<1.0,>=0.23.0 in /usr/local/lib/python3.11/dist-packages (from astunparse>=1.6.0->tensorflow) (0.45.1)\n",
            "Requirement already satisfied: rich in /usr/local/lib/python3.11/dist-packages (from keras>=3.5.0->tensorflow) (13.9.4)\n",
            "Requirement already satisfied: namex in /usr/local/lib/python3.11/dist-packages (from keras>=3.5.0->tensorflow) (0.1.0)\n",
            "Requirement already satisfied: optree in /usr/local/lib/python3.11/dist-packages (from keras>=3.5.0->tensorflow) (0.16.0)\n",
            "Requirement already satisfied: charset-normalizer<4,>=2 in /usr/local/lib/python3.11/dist-packages (from requests<3,>=2.21.0->tensorflow) (3.4.2)\n",
            "Requirement already satisfied: idna<4,>=2.5 in /usr/local/lib/python3.11/dist-packages (from requests<3,>=2.21.0->tensorflow) (3.10)\n",
            "Requirement already satisfied: urllib3<3,>=1.21.1 in /usr/local/lib/python3.11/dist-packages (from requests<3,>=2.21.0->tensorflow) (2.4.0)\n",
            "Requirement already satisfied: certifi>=2017.4.17 in /usr/local/lib/python3.11/dist-packages (from requests<3,>=2.21.0->tensorflow) (2025.6.15)\n",
            "Requirement already satisfied: markdown>=2.6.8 in /usr/local/lib/python3.11/dist-packages (from tensorboard~=2.19.0->tensorflow) (3.8.2)\n",
            "Requirement already satisfied: tensorboard-data-server<0.8.0,>=0.7.0 in /usr/local/lib/python3.11/dist-packages (from tensorboard~=2.19.0->tensorflow) (0.7.2)\n",
            "Requirement already satisfied: werkzeug>=1.0.1 in /usr/local/lib/python3.11/dist-packages (from tensorboard~=2.19.0->tensorflow) (3.1.3)\n",
            "Requirement already satisfied: MarkupSafe>=2.1.1 in /usr/local/lib/python3.11/dist-packages (from werkzeug>=1.0.1->tensorboard~=2.19.0->tensorflow) (3.0.2)\n",
            "Requirement already satisfied: markdown-it-py>=2.2.0 in /usr/local/lib/python3.11/dist-packages (from rich->keras>=3.5.0->tensorflow) (3.0.0)\n",
            "Requirement already satisfied: pygments<3.0.0,>=2.13.0 in /usr/local/lib/python3.11/dist-packages (from rich->keras>=3.5.0->tensorflow) (2.19.2)\n",
            "Requirement already satisfied: mdurl~=0.1 in /usr/local/lib/python3.11/dist-packages (from markdown-it-py>=2.2.0->rich->keras>=3.5.0->tensorflow) (0.1.2)\n",
            "Downloading tensorflow-2.19.0-cp311-cp311-manylinux_2_17_x86_64.manylinux2014_x86_64.whl (644.9 MB)\n",
            "\u001b[2K   \u001b[90m━━━━━━━━━━━━━━━━━━━━━━━━━━━━━━━━━━━━━━━━\u001b[0m \u001b[32m644.9/644.9 MB\u001b[0m \u001b[31m2.2 MB/s\u001b[0m eta \u001b[36m0:00:00\u001b[0m\n",
            "\u001b[?25hDownloading ml_dtypes-0.5.1-cp311-cp311-manylinux_2_17_x86_64.manylinux2014_x86_64.whl (4.7 MB)\n",
            "\u001b[2K   \u001b[90m━━━━━━━━━━━━━━━━━━━━━━━━━━━━━━━━━━━━━━━━\u001b[0m \u001b[32m4.7/4.7 MB\u001b[0m \u001b[31m107.4 MB/s\u001b[0m eta \u001b[36m0:00:00\u001b[0m\n",
            "\u001b[?25hDownloading tensorboard-2.19.0-py3-none-any.whl (5.5 MB)\n",
            "\u001b[2K   \u001b[90m━━━━━━━━━━━━━━━━━━━━━━━━━━━━━━━━━━━━━━━━\u001b[0m \u001b[32m5.5/5.5 MB\u001b[0m \u001b[31m119.8 MB/s\u001b[0m eta \u001b[36m0:00:00\u001b[0m\n",
            "\u001b[?25hInstalling collected packages: ml-dtypes, tensorboard, tensorflow\n",
            "  Attempting uninstall: ml-dtypes\n",
            "    Found existing installation: ml-dtypes 0.4.1\n",
            "    Uninstalling ml-dtypes-0.4.1:\n",
            "      Successfully uninstalled ml-dtypes-0.4.1\n",
            "  Attempting uninstall: tensorboard\n",
            "    Found existing installation: tensorboard 2.18.0\n",
            "    Uninstalling tensorboard-2.18.0:\n",
            "      Successfully uninstalled tensorboard-2.18.0\n",
            "  Attempting uninstall: tensorflow\n",
            "    Found existing installation: tensorflow 2.18.0\n",
            "    Uninstalling tensorflow-2.18.0:\n",
            "      Successfully uninstalled tensorflow-2.18.0\n",
            "\u001b[31mERROR: pip's dependency resolver does not currently take into account all the packages that are installed. This behaviour is the source of the following dependency conflicts.\n",
            "tensorflow-text 2.18.1 requires tensorflow<2.19,>=2.18.0, but you have tensorflow 2.19.0 which is incompatible.\n",
            "tensorflow-decision-forests 1.11.0 requires tensorflow==2.18.0, but you have tensorflow 2.19.0 which is incompatible.\n",
            "tf-keras 2.18.0 requires tensorflow<2.19,>=2.18, but you have tensorflow 2.19.0 which is incompatible.\u001b[0m\u001b[31m\n",
            "\u001b[0mSuccessfully installed ml-dtypes-0.5.1 tensorboard-2.19.0 tensorflow-2.19.0\n"
          ]
        },
        {
          "output_type": "display_data",
          "data": {
            "application/vnd.colab-display-data+json": {
              "pip_warning": {
                "packages": [
                  "tensorflow"
                ]
              },
              "id": "c150dd5721624c03a8b82a430def1748"
            }
          },
          "metadata": {}
        }
      ]
    },
    {
      "cell_type": "code",
      "execution_count": null,
      "metadata": {
        "colab": {
          "base_uri": "https://localhost:8080/"
        },
        "id": "YgqlhThgzZvV",
        "outputId": "0148d50d-c994-4d4e-be84-e72869654f8b"
      },
      "outputs": [
        {
          "output_type": "stream",
          "name": "stdout",
          "text": [
            "Epoch 1/50\n"
          ]
        },
        {
          "output_type": "stream",
          "name": "stderr",
          "text": [
            "/usr/local/lib/python3.11/dist-packages/keras/src/layers/core/embedding.py:90: UserWarning: Argument `input_length` is deprecated. Just remove it.\n",
            "  warnings.warn(\n"
          ]
        },
        {
          "output_type": "stream",
          "name": "stdout",
          "text": [
            "2/2 - 6s - 3s/step - accuracy: 0.4615 - loss: 0.6908 - val_accuracy: 0.4000 - val_loss: 0.6924\n",
            "Epoch 2/50\n",
            "2/2 - 0s - 39ms/step - accuracy: 0.6667 - loss: 0.6795 - val_accuracy: 0.4000 - val_loss: 0.6965\n",
            "Epoch 3/50\n",
            "2/2 - 0s - 67ms/step - accuracy: 0.7436 - loss: 0.6669 - val_accuracy: 0.4000 - val_loss: 0.7034\n",
            "Epoch 4/50\n",
            "2/2 - 0s - 36ms/step - accuracy: 0.6410 - loss: 0.6641 - val_accuracy: 0.4000 - val_loss: 0.7100\n",
            "Epoch 5/50\n",
            "2/2 - 0s - 37ms/step - accuracy: 0.6410 - loss: 0.6521 - val_accuracy: 0.4000 - val_loss: 0.7124\n",
            "Epoch 6/50\n",
            "2/2 - 0s - 37ms/step - accuracy: 0.6923 - loss: 0.6380 - val_accuracy: 0.4000 - val_loss: 0.7123\n",
            "Epoch 7/50\n",
            "2/2 - 0s - 36ms/step - accuracy: 0.6410 - loss: 0.6377 - val_accuracy: 0.4000 - val_loss: 0.7110\n",
            "Epoch 8/50\n",
            "2/2 - 0s - 37ms/step - accuracy: 0.7436 - loss: 0.6146 - val_accuracy: 0.4000 - val_loss: 0.7082\n",
            "Epoch 9/50\n",
            "2/2 - 0s - 70ms/step - accuracy: 0.8462 - loss: 0.6152 - val_accuracy: 0.4000 - val_loss: 0.7056\n",
            "Epoch 10/50\n",
            "2/2 - 0s - 67ms/step - accuracy: 0.8205 - loss: 0.5955 - val_accuracy: 0.4000 - val_loss: 0.7044\n",
            "Epoch 11/50\n",
            "2/2 - 0s - 68ms/step - accuracy: 0.8462 - loss: 0.5946 - val_accuracy: 0.4000 - val_loss: 0.7033\n",
            "Epoch 12/50\n",
            "2/2 - 0s - 68ms/step - accuracy: 0.8974 - loss: 0.5945 - val_accuracy: 0.4000 - val_loss: 0.7029\n",
            "Epoch 13/50\n",
            "2/2 - 0s - 37ms/step - accuracy: 0.9744 - loss: 0.5542 - val_accuracy: 0.4000 - val_loss: 0.7041\n",
            "Epoch 14/50\n",
            "2/2 - 0s - 35ms/step - accuracy: 0.9487 - loss: 0.5366 - val_accuracy: 0.4000 - val_loss: 0.7069\n",
            "Epoch 15/50\n",
            "2/2 - 0s - 40ms/step - accuracy: 0.9487 - loss: 0.5294 - val_accuracy: 0.4000 - val_loss: 0.7104\n",
            "Epoch 16/50\n",
            "2/2 - 0s - 41ms/step - accuracy: 0.9231 - loss: 0.5241 - val_accuracy: 0.4000 - val_loss: 0.7151\n",
            "Epoch 17/50\n",
            "2/2 - 0s - 37ms/step - accuracy: 0.9231 - loss: 0.4941 - val_accuracy: 0.4000 - val_loss: 0.7211\n",
            "Epoch 18/50\n",
            "2/2 - 0s - 36ms/step - accuracy: 0.9231 - loss: 0.4750 - val_accuracy: 0.4000 - val_loss: 0.7261\n",
            "Epoch 19/50\n",
            "2/2 - 0s - 37ms/step - accuracy: 0.9487 - loss: 0.4448 - val_accuracy: 0.4000 - val_loss: 0.7300\n",
            "Epoch 20/50\n",
            "2/2 - 0s - 37ms/step - accuracy: 1.0000 - loss: 0.4227 - val_accuracy: 0.4000 - val_loss: 0.7298\n",
            "Epoch 21/50\n",
            "2/2 - 0s - 67ms/step - accuracy: 0.9744 - loss: 0.3633 - val_accuracy: 0.4000 - val_loss: 0.7298\n",
            "Epoch 22/50\n",
            "2/2 - 0s - 36ms/step - accuracy: 0.8974 - loss: 0.4026 - val_accuracy: 0.4000 - val_loss: 0.7282\n",
            "Epoch 23/50\n",
            "2/2 - 0s - 70ms/step - accuracy: 0.9231 - loss: 0.3855 - val_accuracy: 0.4000 - val_loss: 0.7225\n",
            "Epoch 24/50\n",
            "2/2 - 0s - 37ms/step - accuracy: 0.9744 - loss: 0.3722 - val_accuracy: 0.4000 - val_loss: 0.7163\n",
            "Epoch 25/50\n",
            "2/2 - 0s - 36ms/step - accuracy: 0.9744 - loss: 0.2984 - val_accuracy: 0.4000 - val_loss: 0.7127\n",
            "Epoch 26/50\n",
            "2/2 - 0s - 69ms/step - accuracy: 1.0000 - loss: 0.2979 - val_accuracy: 0.4000 - val_loss: 0.7119\n",
            "Epoch 27/50\n",
            "2/2 - 0s - 69ms/step - accuracy: 1.0000 - loss: 0.2940 - val_accuracy: 0.4000 - val_loss: 0.7151\n",
            "Epoch 28/50\n",
            "2/2 - 0s - 36ms/step - accuracy: 1.0000 - loss: 0.2491 - val_accuracy: 0.4000 - val_loss: 0.7226\n",
            "Epoch 29/50\n",
            "2/2 - 0s - 96ms/step - accuracy: 0.9744 - loss: 0.2243 - val_accuracy: 0.4000 - val_loss: 0.7333\n",
            "Epoch 30/50\n",
            "2/2 - 0s - 42ms/step - accuracy: 1.0000 - loss: 0.2028 - val_accuracy: 0.4000 - val_loss: 0.7445\n",
            "Epoch 31/50\n",
            "2/2 - 0s - 68ms/step - accuracy: 1.0000 - loss: 0.1795 - val_accuracy: 0.4000 - val_loss: 0.7536\n",
            "Epoch 32/50\n",
            "2/2 - 0s - 69ms/step - accuracy: 1.0000 - loss: 0.2131 - val_accuracy: 0.4000 - val_loss: 0.7599\n",
            "Epoch 33/50\n",
            "2/2 - 0s - 35ms/step - accuracy: 1.0000 - loss: 0.1277 - val_accuracy: 0.4000 - val_loss: 0.7609\n",
            "Epoch 34/50\n",
            "2/2 - 0s - 71ms/step - accuracy: 1.0000 - loss: 0.1627 - val_accuracy: 0.4000 - val_loss: 0.7631\n",
            "Epoch 35/50\n",
            "2/2 - 0s - 67ms/step - accuracy: 1.0000 - loss: 0.1032 - val_accuracy: 0.4000 - val_loss: 0.7697\n",
            "Epoch 36/50\n",
            "2/2 - 0s - 42ms/step - accuracy: 1.0000 - loss: 0.0962 - val_accuracy: 0.4000 - val_loss: 0.7784\n",
            "Epoch 37/50\n",
            "2/2 - 0s - 65ms/step - accuracy: 1.0000 - loss: 0.0787 - val_accuracy: 0.4000 - val_loss: 0.7895\n",
            "Epoch 38/50\n",
            "2/2 - 0s - 69ms/step - accuracy: 0.9744 - loss: 0.0847 - val_accuracy: 0.4000 - val_loss: 0.7997\n",
            "Epoch 39/50\n",
            "2/2 - 0s - 65ms/step - accuracy: 1.0000 - loss: 0.0739 - val_accuracy: 0.4000 - val_loss: 0.8085\n",
            "Epoch 40/50\n",
            "2/2 - 0s - 37ms/step - accuracy: 1.0000 - loss: 0.0746 - val_accuracy: 0.4000 - val_loss: 0.8176\n",
            "Epoch 41/50\n",
            "2/2 - 0s - 36ms/step - accuracy: 1.0000 - loss: 0.0831 - val_accuracy: 0.4000 - val_loss: 0.8207\n",
            "Epoch 42/50\n",
            "2/2 - 0s - 36ms/step - accuracy: 1.0000 - loss: 0.0604 - val_accuracy: 0.4000 - val_loss: 0.8212\n",
            "Epoch 43/50\n",
            "2/2 - 0s - 91ms/step - accuracy: 1.0000 - loss: 0.0663 - val_accuracy: 0.4000 - val_loss: 0.8259\n",
            "Epoch 44/50\n",
            "2/2 - 0s - 37ms/step - accuracy: 1.0000 - loss: 0.0419 - val_accuracy: 0.4000 - val_loss: 0.8257\n",
            "Epoch 45/50\n",
            "2/2 - 0s - 69ms/step - accuracy: 1.0000 - loss: 0.0467 - val_accuracy: 0.4000 - val_loss: 0.8242\n",
            "Epoch 46/50\n",
            "2/2 - 0s - 36ms/step - accuracy: 1.0000 - loss: 0.0353 - val_accuracy: 0.4000 - val_loss: 0.8292\n",
            "Epoch 47/50\n",
            "2/2 - 0s - 70ms/step - accuracy: 1.0000 - loss: 0.0261 - val_accuracy: 0.4000 - val_loss: 0.8407\n",
            "Epoch 48/50\n",
            "2/2 - 0s - 36ms/step - accuracy: 1.0000 - loss: 0.0370 - val_accuracy: 0.4000 - val_loss: 0.8551\n",
            "Epoch 49/50\n",
            "2/2 - 0s - 36ms/step - accuracy: 1.0000 - loss: 0.0431 - val_accuracy: 0.4000 - val_loss: 0.8725\n",
            "Epoch 50/50\n",
            "2/2 - 0s - 38ms/step - accuracy: 1.0000 - loss: 0.0327 - val_accuracy: 0.4000 - val_loss: 0.8877\n",
            "\u001b[1m1/1\u001b[0m \u001b[32m━━━━━━━━━━━━━━━━━━━━\u001b[0m\u001b[37m\u001b[0m \u001b[1m0s\u001b[0m 37ms/step - accuracy: 0.4000 - loss: 0.8877\n",
            "Akurasi Model: 40.00%\n"
          ]
        }
      ],
      "source": [
        "import pandas as pd\n",
        "from sklearn.model_selection import train_test_split\n",
        "from tensorflow.keras.preprocessing.text import Tokenizer\n",
        "from tensorflow.keras.preprocessing.sequence import pad_sequences\n",
        "from tensorflow.keras.models import Sequential\n",
        "from tensorflow.keras.layers import Embedding, Conv1D, GlobalMaxPooling1D, Dense, Dropout\n",
        "from sklearn.preprocessing import LabelEncoder\n",
        "\n",
        "# 🔢 Load dataset (minimal 30 data)\n",
        "df = pd.read_csv(\"news_data.csv\")\n",
        "\n",
        "# 🔤 Encode label\n",
        "le = LabelEncoder()\n",
        "df['label'] = le.fit_transform(df['label'])\n",
        "\n",
        "# 🧹 Preprocessing teks\n",
        "texts = df['text'].astype(str).tolist()\n",
        "labels = df['label'].tolist()\n",
        "\n",
        "# 📑 Tokenisasi dan padding\n",
        "tokenizer = Tokenizer(num_words=5000, oov_token=\"<OOV>\")\n",
        "tokenizer.fit_on_texts(texts)\n",
        "sequences = tokenizer.texts_to_sequences(texts)\n",
        "padded = pad_sequences(sequences, padding='post', maxlen=100)\n",
        "\n",
        "# 🧪 Split data\n",
        "X_train, X_test, y_train, y_test = train_test_split(padded, labels, test_size=0.2, random_state=42)\n",
        "\n",
        "# 🔁 Konversi label ke format yang diterima model\n",
        "import numpy as np\n",
        "y_train = np.array(y_train).astype('float32').reshape(-1, 1)\n",
        "y_test = np.array(y_test).astype('float32').reshape(-1, 1)\n",
        "\n",
        "# 🧠 Buat model CNN\n",
        "model = Sequential([\n",
        "    Embedding(input_dim=5000, output_dim=64, input_length=100),\n",
        "    Conv1D(filters=128, kernel_size=3, activation='relu'),\n",
        "    GlobalMaxPooling1D(),\n",
        "    Dense(24, activation='relu'),\n",
        "    Dropout(0.5),\n",
        "    Dense(1, activation='sigmoid')\n",
        "])\n",
        "\n",
        "# 🔧 Compile model\n",
        "model.compile(loss='binary_crossentropy', optimizer='adam', metrics=['accuracy'])\n",
        "\n",
        "# 🚀 Latih model\n",
        "model.fit(X_train, y_train, epochs=50, validation_data=(X_test, y_test), verbose=2)\n",
        "\n",
        "# 📊 Evaluasi\n",
        "loss, accuracy = model.evaluate(X_test, y_test)\n",
        "print(f\"Akurasi Model: {accuracy * 100:.2f}%\")"
      ]
    }
  ]
}